{
 "cells": [
  {
   "cell_type": "code",
   "execution_count": 1,
   "metadata": {
    "id": "Zz3LO35bBBVI"
   },
   "outputs": [],
   "source": [
    "import torch\n",
    "import torch.nn as nn\n",
    "import torch.optim as optim\n",
    "from sklearn.datasets import load_iris\n",
    "from sklearn.model_selection import train_test_split\n",
    "from sklearn.preprocessing import StandardScaler\n",
    "from sklearn.metrics import accuracy_score"
   ]
  },
  {
   "cell_type": "code",
   "execution_count": 2,
   "metadata": {
    "id": "M6aERKlOBH4Q"
   },
   "outputs": [],
   "source": [
    "iris = load_iris()\n",
    "X = iris.data\n",
    "y = iris.target"
   ]
  },
  {
   "cell_type": "code",
   "execution_count": 3,
   "metadata": {
    "id": "gIe-BTozBObi"
   },
   "outputs": [],
   "source": [
    "X_train, X_test, y_train, y_test = train_test_split(X, y, test_size=0.2, random_state=42)"
   ]
  },
  {
   "cell_type": "code",
   "execution_count": 4,
   "metadata": {
    "id": "SHyPahZgBWdg"
   },
   "outputs": [],
   "source": [
    "scaler = StandardScaler()\n",
    "X_train = scaler.fit_transform(X_train)\n",
    "X_test = scaler.transform(X_test)"
   ]
  },
  {
   "cell_type": "code",
   "execution_count": 5,
   "metadata": {
    "id": "xNUpVwmqBX6-"
   },
   "outputs": [],
   "source": [
    "X_train_tensor = torch.tensor(X_train, dtype=torch.float32)\n",
    "y_train_tensor = torch.tensor(y_train, dtype=torch.long)\n",
    "X_test_tensor = torch.tensor(X_test, dtype=torch.float32)\n",
    "y_test_tensor = torch.tensor(y_test, dtype=torch.long)"
   ]
  },
  {
   "cell_type": "code",
   "execution_count": 6,
   "metadata": {
    "id": "mkX1aEi3Bcwr"
   },
   "outputs": [],
   "source": [
    "class SimpleClassifier(nn.Module):\n",
    "    def __init__(self, input_size, hidden_size, output_size):\n",
    "        super(SimpleClassifier, self).__init__()\n",
    "        self.fc1 = nn.Linear(input_size, hidden_size)\n",
    "        self.relu = nn.ReLU()\n",
    "        self.fc2 = nn.Linear(hidden_size, output_size)\n",
    "\n",
    "    def forward(self, x):\n",
    "        x = self.fc1(x)\n",
    "        x = self.relu(x)\n",
    "        x = self.fc2(x)\n",
    "        return x"
   ]
  },
  {
   "cell_type": "code",
   "execution_count": 7,
   "metadata": {
    "id": "WbMzT_D0Bg1E"
   },
   "outputs": [],
   "source": [
    "input_size = X_train.shape[1]\n",
    "hidden_size = 16\n",
    "output_size = len(set(y_train))"
   ]
  },
  {
   "cell_type": "code",
   "execution_count": 8,
   "metadata": {
    "id": "OAKZe3pNByDn"
   },
   "outputs": [],
   "source": [
    "model = SimpleClassifier(input_size, hidden_size, output_size)"
   ]
  },
  {
   "cell_type": "code",
   "execution_count": 9,
   "metadata": {
    "id": "-anYQqNxBzCi"
   },
   "outputs": [],
   "source": [
    "criterion = nn.CrossEntropyLoss()\n",
    "optimizer = optim.Adam(model.parameters(), lr=0.001)"
   ]
  },
  {
   "cell_type": "code",
   "execution_count": 10,
   "metadata": {
    "colab": {
     "base_uri": "https://localhost:8080/"
    },
    "id": "seEFglLAB8Av",
    "outputId": "2a6be7d3-fcbf-4de7-8891-359988fa5a12"
   },
   "outputs": [
    {
     "name": "stdout",
     "output_type": "stream",
     "text": [
      "Epoch [100/4000], Loss: 0.1371\n",
      "Epoch [200/4000], Loss: 0.0477\n",
      "Epoch [300/4000], Loss: 0.0316\n",
      "Epoch [400/4000], Loss: 0.0246\n",
      "Epoch [500/4000], Loss: 0.0206\n",
      "Epoch [600/4000], Loss: 0.0179\n",
      "Epoch [700/4000], Loss: 0.0160\n",
      "Epoch [800/4000], Loss: 0.0146\n",
      "Epoch [900/4000], Loss: 0.0127\n",
      "Epoch [1000/4000], Loss: 0.0104\n",
      "Epoch [1100/4000], Loss: 0.0090\n",
      "Epoch [1200/4000], Loss: 0.0079\n",
      "Epoch [1300/4000], Loss: 0.0074\n",
      "Epoch [1400/4000], Loss: 0.0070\n",
      "Epoch [1500/4000], Loss: 0.0066\n",
      "Epoch [1600/4000], Loss: 0.0065\n",
      "Epoch [1700/4000], Loss: 0.0065\n",
      "Epoch [1800/4000], Loss: 0.0064\n",
      "Epoch [1900/4000], Loss: 0.0063\n",
      "Epoch [2000/4000], Loss: 0.0060\n",
      "Epoch [2100/4000], Loss: 0.0058\n",
      "Epoch [2200/4000], Loss: 0.0055\n",
      "Epoch [2300/4000], Loss: 0.0051\n",
      "Epoch [2400/4000], Loss: 0.0048\n",
      "Epoch [2500/4000], Loss: 0.0042\n",
      "Epoch [2600/4000], Loss: 0.0037\n",
      "Epoch [2700/4000], Loss: 0.0035\n",
      "Epoch [2800/4000], Loss: 0.0032\n",
      "Epoch [2900/4000], Loss: 0.0028\n",
      "Epoch [3000/4000], Loss: 0.0026\n",
      "Epoch [3100/4000], Loss: 0.0023\n",
      "Epoch [3200/4000], Loss: 0.0020\n",
      "Epoch [3300/4000], Loss: 0.0019\n",
      "Epoch [3400/4000], Loss: 0.0017\n",
      "Epoch [3500/4000], Loss: 0.0016\n",
      "Epoch [3600/4000], Loss: 0.0014\n",
      "Epoch [3700/4000], Loss: 0.0012\n",
      "Epoch [3800/4000], Loss: 0.0012\n",
      "Epoch [3900/4000], Loss: 0.0010\n",
      "Epoch [4000/4000], Loss: 0.0009\n"
     ]
    }
   ],
   "source": [
    "batch_size = 16\n",
    "epochs = 4000\n",
    "\n",
    "for epoch in range(epochs):\n",
    "    for i in range(0, len(X_train_tensor), batch_size):\n",
    "        optimizer.zero_grad()\n",
    "        batch_X = X_train_tensor[i:i+batch_size]\n",
    "        batch_y = y_train_tensor[i:i+batch_size]\n",
    "        outputs = model(batch_X)\n",
    "        loss = criterion(outputs, batch_y)\n",
    "        loss.backward()\n",
    "        optimizer.step()\n",
    "\n",
    "    if (epoch + 1) % 100 == 0:\n",
    "        print(f'Epoch [{epoch+1}/{epochs}], Loss: {loss.item():.4f}')"
   ]
  },
  {
   "cell_type": "code",
   "execution_count": 24,
   "metadata": {
    "colab": {
     "base_uri": "https://localhost:8080/"
    },
    "id": "n6UrY8_nCDbz",
    "outputId": "bd98a5f9-d819-4821-b77f-3ec44395d110"
   },
   "outputs": [
    {
     "name": "stdout",
     "output_type": "stream",
     "text": [
      "Test Accuracy: 0.9667\n"
     ]
    }
   ],
   "source": [
    "model.eval()\n",
    "with torch.no_grad():\n",
    "    test_outputs = model(X_test_tensor)\n",
    "    predicted_labels = torch.argmax(test_outputs, dim=1).numpy()\n",
    "    test_accuracy = accuracy_score(y_test, predicted_labels)\n",
    "\n",
    "print(f'Test Accuracy: {test_accuracy:.4f}')"
   ]
  }
 ],
 "metadata": {
  "colab": {
   "provenance": []
  },
  "kernelspec": {
   "display_name": "Python 3 (ipykernel)",
   "language": "python",
   "name": "python3"
  },
  "language_info": {
   "codemirror_mode": {
    "name": "ipython",
    "version": 3
   },
   "file_extension": ".py",
   "mimetype": "text/x-python",
   "name": "python",
   "nbconvert_exporter": "python",
   "pygments_lexer": "ipython3",
   "version": "3.9.7"
  }
 },
 "nbformat": 4,
 "nbformat_minor": 1
}
