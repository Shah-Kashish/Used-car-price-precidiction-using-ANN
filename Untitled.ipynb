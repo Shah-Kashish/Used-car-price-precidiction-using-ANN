{
 "cells": [
  {
   "cell_type": "code",
   "execution_count": 1,
   "id": "9fd6748e",
   "metadata": {},
   "outputs": [],
   "source": [
    "# import libraries\n",
    "import numpy as np\n",
    "import pandas as pd\n",
    "import keras\n",
    "import tensorflow"
   ]
  },
  {
   "cell_type": "code",
   "execution_count": 2,
   "id": "d98495c7",
   "metadata": {},
   "outputs": [],
   "source": [
    "# load dataset\n",
    "#train = pd.read_csv('train-data.csv')\n",
    "#test = pd.read_csv('test-data.csv')"
   ]
  },
  {
   "cell_type": "code",
   "execution_count": 3,
   "id": "1b0c1d77",
   "metadata": {},
   "outputs": [],
   "source": [
    "#train.head()"
   ]
  },
  {
   "cell_type": "code",
   "execution_count": 4,
   "id": "e885afe6",
   "metadata": {
    "scrolled": true
   },
   "outputs": [],
   "source": [
    "#test.head()"
   ]
  },
  {
   "cell_type": "code",
   "execution_count": 5,
   "id": "3bdd42a7",
   "metadata": {},
   "outputs": [],
   "source": [
    "#train.isna().sum()"
   ]
  },
  {
   "cell_type": "code",
   "execution_count": 6,
   "id": "ec147c24",
   "metadata": {},
   "outputs": [],
   "source": [
    "from sklearn.model_selection import train_test_split\n",
    "train=pd.read_csv(\"train-data.csv\")\n",
    "indices=range(len(train))\n",
    "train_indices, test_indices = train_test_split(indices, test_size=0.2, random_state=42)"
   ]
  },
  {
   "cell_type": "code",
   "execution_count": 7,
   "id": "a1976d30",
   "metadata": {},
   "outputs": [],
   "source": [
    "test=train.loc[test_indices]\n",
    "train=train.loc[train_indices]"
   ]
  },
  {
   "cell_type": "code",
   "execution_count": 8,
   "id": "ac79eaa2",
   "metadata": {},
   "outputs": [],
   "source": [
    "train.drop(columns=[\"Unnamed: 0\",\"Location\",\"New_Price\"],axis=1,inplace=True)\n",
    "test.drop(columns=[\"Unnamed: 0\",\"Location\",\"New_Price\"],axis=1,inplace=True)"
   ]
  },
  {
   "cell_type": "code",
   "execution_count": 9,
   "id": "84603048",
   "metadata": {},
   "outputs": [],
   "source": [
    "train.dropna(subset=[\"Engine\",\"Power\",\"Seats\",\"Mileage\"],axis=0,inplace=True)\n",
    "test.dropna(subset=[\"Engine\",\"Power\",\"Seats\",\"Mileage\"],axis=0,inplace=True)"
   ]
  },
  {
   "cell_type": "code",
   "execution_count": 10,
   "id": "37f4ba15",
   "metadata": {},
   "outputs": [
    {
     "data": {
      "text/plain": [
       "Name                 0\n",
       "Year                 0\n",
       "Kilometers_Driven    0\n",
       "Fuel_Type            0\n",
       "Transmission         0\n",
       "Owner_Type           0\n",
       "Mileage              0\n",
       "Engine               0\n",
       "Power                0\n",
       "Seats                0\n",
       "Price                0\n",
       "dtype: int64"
      ]
     },
     "execution_count": 10,
     "metadata": {},
     "output_type": "execute_result"
    }
   ],
   "source": [
    "train.isna().sum()"
   ]
  },
  {
   "cell_type": "code",
   "execution_count": 11,
   "id": "ee9dca57",
   "metadata": {},
   "outputs": [
    {
     "data": {
      "text/html": [
       "<div>\n",
       "<style scoped>\n",
       "    .dataframe tbody tr th:only-of-type {\n",
       "        vertical-align: middle;\n",
       "    }\n",
       "\n",
       "    .dataframe tbody tr th {\n",
       "        vertical-align: top;\n",
       "    }\n",
       "\n",
       "    .dataframe thead th {\n",
       "        text-align: right;\n",
       "    }\n",
       "</style>\n",
       "<table border=\"1\" class=\"dataframe\">\n",
       "  <thead>\n",
       "    <tr style=\"text-align: right;\">\n",
       "      <th></th>\n",
       "      <th>Name</th>\n",
       "      <th>Year</th>\n",
       "      <th>Kilometers_Driven</th>\n",
       "      <th>Fuel_Type</th>\n",
       "      <th>Transmission</th>\n",
       "      <th>Owner_Type</th>\n",
       "      <th>Mileage</th>\n",
       "      <th>Engine</th>\n",
       "      <th>Power</th>\n",
       "      <th>Seats</th>\n",
       "      <th>Price</th>\n",
       "    </tr>\n",
       "  </thead>\n",
       "  <tbody>\n",
       "    <tr>\n",
       "      <th>4248</th>\n",
       "      <td>Chevrolet Beat LS</td>\n",
       "      <td>2011</td>\n",
       "      <td>76155</td>\n",
       "      <td>Petrol</td>\n",
       "      <td>Manual</td>\n",
       "      <td>First</td>\n",
       "      <td>18.6 kmpl</td>\n",
       "      <td>1199 CC</td>\n",
       "      <td>79.4 bhp</td>\n",
       "      <td>5.0</td>\n",
       "      <td>1.95</td>\n",
       "    </tr>\n",
       "    <tr>\n",
       "      <th>4129</th>\n",
       "      <td>Ford EcoSport 1.5 TDCi Titanium</td>\n",
       "      <td>2014</td>\n",
       "      <td>64637</td>\n",
       "      <td>Diesel</td>\n",
       "      <td>Manual</td>\n",
       "      <td>First</td>\n",
       "      <td>22.77 kmpl</td>\n",
       "      <td>1498 CC</td>\n",
       "      <td>98.59 bhp</td>\n",
       "      <td>5.0</td>\n",
       "      <td>7.52</td>\n",
       "    </tr>\n",
       "    <tr>\n",
       "      <th>2534</th>\n",
       "      <td>Maruti Vitara Brezza ZDi</td>\n",
       "      <td>2018</td>\n",
       "      <td>2900</td>\n",
       "      <td>Diesel</td>\n",
       "      <td>Manual</td>\n",
       "      <td>First</td>\n",
       "      <td>24.3 kmpl</td>\n",
       "      <td>1248 CC</td>\n",
       "      <td>88.5 bhp</td>\n",
       "      <td>5.0</td>\n",
       "      <td>8.75</td>\n",
       "    </tr>\n",
       "    <tr>\n",
       "      <th>2893</th>\n",
       "      <td>Toyota Innova 2.5 VX (Diesel) 8 Seater</td>\n",
       "      <td>2011</td>\n",
       "      <td>150000</td>\n",
       "      <td>Diesel</td>\n",
       "      <td>Manual</td>\n",
       "      <td>First</td>\n",
       "      <td>12.99 kmpl</td>\n",
       "      <td>2494 CC</td>\n",
       "      <td>100.6 bhp</td>\n",
       "      <td>8.0</td>\n",
       "      <td>6.95</td>\n",
       "    </tr>\n",
       "    <tr>\n",
       "      <th>2860</th>\n",
       "      <td>Tata Bolt Quadrajet XM</td>\n",
       "      <td>2017</td>\n",
       "      <td>98500</td>\n",
       "      <td>Diesel</td>\n",
       "      <td>Manual</td>\n",
       "      <td>First</td>\n",
       "      <td>22.95 kmpl</td>\n",
       "      <td>1248 CC</td>\n",
       "      <td>74 bhp</td>\n",
       "      <td>5.0</td>\n",
       "      <td>6.00</td>\n",
       "    </tr>\n",
       "  </tbody>\n",
       "</table>\n",
       "</div>"
      ],
      "text/plain": [
       "                                        Name  Year  Kilometers_Driven  \\\n",
       "4248                       Chevrolet Beat LS  2011              76155   \n",
       "4129         Ford EcoSport 1.5 TDCi Titanium  2014              64637   \n",
       "2534                Maruti Vitara Brezza ZDi  2018               2900   \n",
       "2893  Toyota Innova 2.5 VX (Diesel) 8 Seater  2011             150000   \n",
       "2860                  Tata Bolt Quadrajet XM  2017              98500   \n",
       "\n",
       "     Fuel_Type Transmission Owner_Type     Mileage   Engine      Power  Seats  \\\n",
       "4248    Petrol       Manual      First   18.6 kmpl  1199 CC   79.4 bhp    5.0   \n",
       "4129    Diesel       Manual      First  22.77 kmpl  1498 CC  98.59 bhp    5.0   \n",
       "2534    Diesel       Manual      First   24.3 kmpl  1248 CC   88.5 bhp    5.0   \n",
       "2893    Diesel       Manual      First  12.99 kmpl  2494 CC  100.6 bhp    8.0   \n",
       "2860    Diesel       Manual      First  22.95 kmpl  1248 CC     74 bhp    5.0   \n",
       "\n",
       "      Price  \n",
       "4248   1.95  \n",
       "4129   7.52  \n",
       "2534   8.75  \n",
       "2893   6.95  \n",
       "2860   6.00  "
      ]
     },
     "execution_count": 11,
     "metadata": {},
     "output_type": "execute_result"
    }
   ],
   "source": [
    "train.head(5)"
   ]
  },
  {
   "cell_type": "code",
   "execution_count": 12,
   "id": "db3214bb",
   "metadata": {},
   "outputs": [
    {
     "data": {
      "text/html": [
       "<div>\n",
       "<style scoped>\n",
       "    .dataframe tbody tr th:only-of-type {\n",
       "        vertical-align: middle;\n",
       "    }\n",
       "\n",
       "    .dataframe tbody tr th {\n",
       "        vertical-align: top;\n",
       "    }\n",
       "\n",
       "    .dataframe thead th {\n",
       "        text-align: right;\n",
       "    }\n",
       "</style>\n",
       "<table border=\"1\" class=\"dataframe\">\n",
       "  <thead>\n",
       "    <tr style=\"text-align: right;\">\n",
       "      <th></th>\n",
       "      <th>Name</th>\n",
       "      <th>Year</th>\n",
       "      <th>Kilometers_Driven</th>\n",
       "      <th>Fuel_Type</th>\n",
       "      <th>Transmission</th>\n",
       "      <th>Owner_Type</th>\n",
       "      <th>Mileage</th>\n",
       "      <th>Engine</th>\n",
       "      <th>Power</th>\n",
       "      <th>Seats</th>\n",
       "      <th>Price</th>\n",
       "    </tr>\n",
       "  </thead>\n",
       "  <tbody>\n",
       "    <tr>\n",
       "      <th>2868</th>\n",
       "      <td>Maruti Swift Dzire VDI</td>\n",
       "      <td>2013</td>\n",
       "      <td>69000</td>\n",
       "      <td>Diesel</td>\n",
       "      <td>Manual</td>\n",
       "      <td>First</td>\n",
       "      <td>23.4 kmpl</td>\n",
       "      <td>1248 CC</td>\n",
       "      <td>74 bhp</td>\n",
       "      <td>5.0</td>\n",
       "      <td>5.75</td>\n",
       "    </tr>\n",
       "    <tr>\n",
       "      <th>5924</th>\n",
       "      <td>Mahindra Scorpio 1.99 S4 Plus</td>\n",
       "      <td>2017</td>\n",
       "      <td>26741</td>\n",
       "      <td>Diesel</td>\n",
       "      <td>Manual</td>\n",
       "      <td>First</td>\n",
       "      <td>15.4 kmpl</td>\n",
       "      <td>1997 CC</td>\n",
       "      <td>120 bhp</td>\n",
       "      <td>7.0</td>\n",
       "      <td>10.08</td>\n",
       "    </tr>\n",
       "    <tr>\n",
       "      <th>3764</th>\n",
       "      <td>Mahindra XUV500 W8 2WD</td>\n",
       "      <td>2014</td>\n",
       "      <td>86000</td>\n",
       "      <td>Diesel</td>\n",
       "      <td>Manual</td>\n",
       "      <td>First</td>\n",
       "      <td>15.1 kmpl</td>\n",
       "      <td>2179 CC</td>\n",
       "      <td>140 bhp</td>\n",
       "      <td>7.0</td>\n",
       "      <td>7.85</td>\n",
       "    </tr>\n",
       "    <tr>\n",
       "      <th>4144</th>\n",
       "      <td>Tata Indigo CS eVX</td>\n",
       "      <td>2016</td>\n",
       "      <td>52000</td>\n",
       "      <td>Diesel</td>\n",
       "      <td>Manual</td>\n",
       "      <td>Second</td>\n",
       "      <td>25.0 kmpl</td>\n",
       "      <td>1396 CC</td>\n",
       "      <td>69.01 bhp</td>\n",
       "      <td>5.0</td>\n",
       "      <td>2.40</td>\n",
       "    </tr>\n",
       "    <tr>\n",
       "      <th>1514</th>\n",
       "      <td>Honda Accord 2.4 AT</td>\n",
       "      <td>2008</td>\n",
       "      <td>125000</td>\n",
       "      <td>Petrol</td>\n",
       "      <td>Automatic</td>\n",
       "      <td>Third</td>\n",
       "      <td>11.7 kmpl</td>\n",
       "      <td>2354 CC</td>\n",
       "      <td>177.6 bhp</td>\n",
       "      <td>5.0</td>\n",
       "      <td>2.60</td>\n",
       "    </tr>\n",
       "  </tbody>\n",
       "</table>\n",
       "</div>"
      ],
      "text/plain": [
       "                               Name  Year  Kilometers_Driven Fuel_Type  \\\n",
       "2868         Maruti Swift Dzire VDI  2013              69000    Diesel   \n",
       "5924  Mahindra Scorpio 1.99 S4 Plus  2017              26741    Diesel   \n",
       "3764         Mahindra XUV500 W8 2WD  2014              86000    Diesel   \n",
       "4144             Tata Indigo CS eVX  2016              52000    Diesel   \n",
       "1514            Honda Accord 2.4 AT  2008             125000    Petrol   \n",
       "\n",
       "     Transmission Owner_Type    Mileage   Engine      Power  Seats  Price  \n",
       "2868       Manual      First  23.4 kmpl  1248 CC     74 bhp    5.0   5.75  \n",
       "5924       Manual      First  15.4 kmpl  1997 CC    120 bhp    7.0  10.08  \n",
       "3764       Manual      First  15.1 kmpl  2179 CC    140 bhp    7.0   7.85  \n",
       "4144       Manual     Second  25.0 kmpl  1396 CC  69.01 bhp    5.0   2.40  \n",
       "1514    Automatic      Third  11.7 kmpl  2354 CC  177.6 bhp    5.0   2.60  "
      ]
     },
     "execution_count": 12,
     "metadata": {},
     "output_type": "execute_result"
    }
   ],
   "source": [
    "test.head(5)"
   ]
  },
  {
   "cell_type": "code",
   "execution_count": 13,
   "id": "579ee1e1",
   "metadata": {},
   "outputs": [],
   "source": [
    "train[\"Name\"]=train[\"Name\"].str.split().str[0]\n",
    "test[\"Name\"]=test[\"Name\"].str.split().str[0]"
   ]
  },
  {
   "cell_type": "code",
   "execution_count": 14,
   "id": "055e02bc",
   "metadata": {},
   "outputs": [],
   "source": [
    "fuels=train.groupby([\"Fuel_Type\"])[\"Price\"].mean().sort_values(ascending=True).reset_index()[\"Fuel_Type\"]\n",
    "\n",
    "fuels={value:index for index,value in enumerate(fuels)}\n",
    "fuels\n",
    "train[\"Fuel_Type\"]=train[\"Fuel_Type\"].replace(fuels)\n",
    "test[\"Fuel_Type\"]=test[\"Fuel_Type\"].replace(fuels)"
   ]
  },
  {
   "cell_type": "code",
   "execution_count": 15,
   "id": "d3d61098",
   "metadata": {},
   "outputs": [],
   "source": [
    "train[\"Transmission\"]=train[\"Transmission\"].replace({\"Manual\":1,\"Automatic\":0})\n",
    "test[\"Transmission\"]=test[\"Transmission\"].replace({\"Manual\":1,\"Automatic\":0})\n",
    "modelss=train.groupby([\"Name\"])[\"Price\"].mean().sort_values(ascending=True).reset_index()[\"Name\"]\n",
    "\n",
    "modelss={value:index for index,value in enumerate(modelss)}"
   ]
  },
  {
   "cell_type": "code",
   "execution_count": 16,
   "id": "11b34b40",
   "metadata": {},
   "outputs": [],
   "source": [
    "train[\"Name\"]=train[\"Name\"].replace(modelss)\n",
    "test[\"Name\"]=test[\"Name\"].replace(modelss)"
   ]
  },
  {
   "cell_type": "code",
   "execution_count": 17,
   "id": "8855fc74",
   "metadata": {},
   "outputs": [
    {
     "data": {
      "text/plain": [
       "First             3928\n",
       "Second             751\n",
       "Third               94\n",
       "Fourth & Above       6\n",
       "Name: Owner_Type, dtype: int64"
      ]
     },
     "execution_count": 17,
     "metadata": {},
     "output_type": "execute_result"
    }
   ],
   "source": [
    "train[\"Owner_Type\"].value_counts()"
   ]
  },
  {
   "cell_type": "code",
   "execution_count": 18,
   "id": "a46c23ee",
   "metadata": {},
   "outputs": [],
   "source": [
    "train[\"Owner_Type\"]=train[\"Owner_Type\"].replace({\"First\":1,\"Second\":2,\"Third\":3,\"Fourth & Above\":4})\n",
    "test[\"Owner_Type\"]=test[\"Owner_Type\"].replace({\"First\":1,\"Second\":2,\"Third\":3,\"Fourth & Above\":4})"
   ]
  },
  {
   "cell_type": "code",
   "execution_count": 19,
   "id": "14ba6373",
   "metadata": {},
   "outputs": [],
   "source": [
    "train[\"Power\"]=pd.to_numeric(train[\"Power\"],errors=\"coerce\")\n",
    "test[\"Power\"]=pd.to_numeric(test[\"Power\"],errors=\"coerce\")"
   ]
  },
  {
   "cell_type": "code",
   "execution_count": 20,
   "id": "565f5fca",
   "metadata": {},
   "outputs": [],
   "source": [
    "train[\"new\"]=train.Mileage.str.split().str[0].astype(float)\n",
    "test[\"new\"]=test.Mileage.str.split().str[0].astype(float)\n",
    "\n",
    "train.drop(columns=[\"new\",\"Mileage\"],axis=1,inplace=True)\n",
    "test.drop(columns=[\"new\",\"Mileage\"],axis=1,inplace=True)"
   ]
  },
  {
   "cell_type": "code",
   "execution_count": 21,
   "id": "5afe78f0",
   "metadata": {},
   "outputs": [
    {
     "name": "stdout",
     "output_type": "stream",
     "text": [
      "<class 'pandas.core.frame.DataFrame'>\n",
      "Int64Index: 4779 entries, 4248 to 860\n",
      "Data columns (total 10 columns):\n",
      " #   Column             Non-Null Count  Dtype  \n",
      "---  ------             --------------  -----  \n",
      " 0   Name               4779 non-null   int64  \n",
      " 1   Year               4779 non-null   int64  \n",
      " 2   Kilometers_Driven  4779 non-null   int64  \n",
      " 3   Fuel_Type          4779 non-null   int64  \n",
      " 4   Transmission       4779 non-null   int64  \n",
      " 5   Owner_Type         4779 non-null   int64  \n",
      " 6   Engine             4779 non-null   object \n",
      " 7   Power              0 non-null      float64\n",
      " 8   Seats              4779 non-null   float64\n",
      " 9   Price              4779 non-null   float64\n",
      "dtypes: float64(3), int64(6), object(1)\n",
      "memory usage: 410.7+ KB\n"
     ]
    }
   ],
   "source": [
    "train.info()"
   ]
  },
  {
   "cell_type": "code",
   "execution_count": 22,
   "id": "885c9d9d",
   "metadata": {},
   "outputs": [],
   "source": [
    "train['numberEngine']=train['Engine'].str.split().str[0]\n",
    "test['numberEngine']=test['Engine'].str.split().str[0]"
   ]
  },
  {
   "cell_type": "code",
   "execution_count": 23,
   "id": "123039be",
   "metadata": {},
   "outputs": [
    {
     "name": "stdout",
     "output_type": "stream",
     "text": [
      "<class 'pandas.core.frame.DataFrame'>\n",
      "Int64Index: 4779 entries, 4248 to 860\n",
      "Data columns (total 11 columns):\n",
      " #   Column             Non-Null Count  Dtype  \n",
      "---  ------             --------------  -----  \n",
      " 0   Name               4779 non-null   int64  \n",
      " 1   Year               4779 non-null   int64  \n",
      " 2   Kilometers_Driven  4779 non-null   int64  \n",
      " 3   Fuel_Type          4779 non-null   int64  \n",
      " 4   Transmission       4779 non-null   int64  \n",
      " 5   Owner_Type         4779 non-null   int64  \n",
      " 6   Engine             4779 non-null   object \n",
      " 7   Power              0 non-null      float64\n",
      " 8   Seats              4779 non-null   float64\n",
      " 9   Price              4779 non-null   float64\n",
      " 10  numberEngine       4779 non-null   object \n",
      "dtypes: float64(3), int64(6), object(2)\n",
      "memory usage: 448.0+ KB\n"
     ]
    }
   ],
   "source": [
    "train.info()"
   ]
  },
  {
   "cell_type": "code",
   "execution_count": 24,
   "id": "49cc784d",
   "metadata": {},
   "outputs": [],
   "source": [
    "train['numberEngine']=train['numberEngine'].astype(int)\n",
    "test['numberEngine']=test['numberEngine'].astype(int)"
   ]
  },
  {
   "cell_type": "code",
   "execution_count": 25,
   "id": "75f85c91",
   "metadata": {},
   "outputs": [
    {
     "data": {
      "text/plain": [
       "numberEngine         1.000000\n",
       "Name                 0.722999\n",
       "Price                0.657860\n",
       "Fuel_Type            0.420717\n",
       "Seats                0.390192\n",
       "Kilometers_Driven    0.155547\n",
       "Owner_Type           0.048983\n",
       "Year                -0.055723\n",
       "Transmission        -0.506939\n",
       "Power                     NaN\n",
       "Name: numberEngine, dtype: float64"
      ]
     },
     "execution_count": 25,
     "metadata": {},
     "output_type": "execute_result"
    }
   ],
   "source": [
    "train.corr()['numberEngine'].sort_values(ascending=False)"
   ]
  },
  {
   "cell_type": "code",
   "execution_count": 26,
   "id": "0745cf09",
   "metadata": {},
   "outputs": [],
   "source": [
    "train.drop(columns=['Engine'],inplace=True)\n",
    "test.drop(columns=['Engine'],inplace=True)"
   ]
  },
  {
   "cell_type": "code",
   "execution_count": 27,
   "id": "9a5ea546",
   "metadata": {},
   "outputs": [],
   "source": [
    "train=train.rename(columns={\"numberEngine\":\"Engine\"})\n",
    "test=test.rename(columns={\"numberEngine\":\"Engine\"})"
   ]
  },
  {
   "cell_type": "code",
   "execution_count": 28,
   "id": "3c7fbca3",
   "metadata": {},
   "outputs": [],
   "source": [
    "train.drop(columns=[\"Power\"],inplace=True)\n",
    "test.drop(columns=[\"Power\"],inplace=True)"
   ]
  },
  {
   "cell_type": "code",
   "execution_count": 29,
   "id": "7efe14db",
   "metadata": {},
   "outputs": [
    {
     "data": {
      "text/html": [
       "<div>\n",
       "<style scoped>\n",
       "    .dataframe tbody tr th:only-of-type {\n",
       "        vertical-align: middle;\n",
       "    }\n",
       "\n",
       "    .dataframe tbody tr th {\n",
       "        vertical-align: top;\n",
       "    }\n",
       "\n",
       "    .dataframe thead th {\n",
       "        text-align: right;\n",
       "    }\n",
       "</style>\n",
       "<table border=\"1\" class=\"dataframe\">\n",
       "  <thead>\n",
       "    <tr style=\"text-align: right;\">\n",
       "      <th></th>\n",
       "      <th>Name</th>\n",
       "      <th>Year</th>\n",
       "      <th>Kilometers_Driven</th>\n",
       "      <th>Fuel_Type</th>\n",
       "      <th>Transmission</th>\n",
       "      <th>Owner_Type</th>\n",
       "      <th>Seats</th>\n",
       "      <th>Price</th>\n",
       "      <th>Engine</th>\n",
       "    </tr>\n",
       "  </thead>\n",
       "  <tbody>\n",
       "    <tr>\n",
       "      <th>4248</th>\n",
       "      <td>0</td>\n",
       "      <td>2011</td>\n",
       "      <td>76155</td>\n",
       "      <td>2</td>\n",
       "      <td>1</td>\n",
       "      <td>1</td>\n",
       "      <td>5.0</td>\n",
       "      <td>1.95</td>\n",
       "      <td>1199</td>\n",
       "    </tr>\n",
       "    <tr>\n",
       "      <th>4129</th>\n",
       "      <td>10</td>\n",
       "      <td>2014</td>\n",
       "      <td>64637</td>\n",
       "      <td>3</td>\n",
       "      <td>1</td>\n",
       "      <td>1</td>\n",
       "      <td>5.0</td>\n",
       "      <td>7.52</td>\n",
       "      <td>1498</td>\n",
       "    </tr>\n",
       "    <tr>\n",
       "      <th>2534</th>\n",
       "      <td>4</td>\n",
       "      <td>2018</td>\n",
       "      <td>2900</td>\n",
       "      <td>3</td>\n",
       "      <td>1</td>\n",
       "      <td>1</td>\n",
       "      <td>5.0</td>\n",
       "      <td>8.75</td>\n",
       "      <td>1248</td>\n",
       "    </tr>\n",
       "    <tr>\n",
       "      <th>2893</th>\n",
       "      <td>15</td>\n",
       "      <td>2011</td>\n",
       "      <td>150000</td>\n",
       "      <td>3</td>\n",
       "      <td>1</td>\n",
       "      <td>1</td>\n",
       "      <td>8.0</td>\n",
       "      <td>6.95</td>\n",
       "      <td>2494</td>\n",
       "    </tr>\n",
       "    <tr>\n",
       "      <th>2860</th>\n",
       "      <td>2</td>\n",
       "      <td>2017</td>\n",
       "      <td>98500</td>\n",
       "      <td>3</td>\n",
       "      <td>1</td>\n",
       "      <td>1</td>\n",
       "      <td>5.0</td>\n",
       "      <td>6.00</td>\n",
       "      <td>1248</td>\n",
       "    </tr>\n",
       "  </tbody>\n",
       "</table>\n",
       "</div>"
      ],
      "text/plain": [
       "      Name  Year  Kilometers_Driven  Fuel_Type  Transmission  Owner_Type  \\\n",
       "4248     0  2011              76155          2             1           1   \n",
       "4129    10  2014              64637          3             1           1   \n",
       "2534     4  2018               2900          3             1           1   \n",
       "2893    15  2011             150000          3             1           1   \n",
       "2860     2  2017              98500          3             1           1   \n",
       "\n",
       "      Seats  Price  Engine  \n",
       "4248    5.0   1.95    1199  \n",
       "4129    5.0   7.52    1498  \n",
       "2534    5.0   8.75    1248  \n",
       "2893    8.0   6.95    2494  \n",
       "2860    5.0   6.00    1248  "
      ]
     },
     "execution_count": 29,
     "metadata": {},
     "output_type": "execute_result"
    }
   ],
   "source": [
    "train.head()"
   ]
  },
  {
   "cell_type": "code",
   "execution_count": 30,
   "id": "b1a0ad92",
   "metadata": {},
   "outputs": [
    {
     "data": {
      "text/html": [
       "<div>\n",
       "<style scoped>\n",
       "    .dataframe tbody tr th:only-of-type {\n",
       "        vertical-align: middle;\n",
       "    }\n",
       "\n",
       "    .dataframe tbody tr th {\n",
       "        vertical-align: top;\n",
       "    }\n",
       "\n",
       "    .dataframe thead th {\n",
       "        text-align: right;\n",
       "    }\n",
       "</style>\n",
       "<table border=\"1\" class=\"dataframe\">\n",
       "  <thead>\n",
       "    <tr style=\"text-align: right;\">\n",
       "      <th></th>\n",
       "      <th>Name</th>\n",
       "      <th>Year</th>\n",
       "      <th>Kilometers_Driven</th>\n",
       "      <th>Fuel_Type</th>\n",
       "      <th>Transmission</th>\n",
       "      <th>Owner_Type</th>\n",
       "      <th>Seats</th>\n",
       "      <th>Price</th>\n",
       "      <th>Engine</th>\n",
       "    </tr>\n",
       "  </thead>\n",
       "  <tbody>\n",
       "    <tr>\n",
       "      <th>2868</th>\n",
       "      <td>4</td>\n",
       "      <td>2013</td>\n",
       "      <td>69000</td>\n",
       "      <td>3</td>\n",
       "      <td>1</td>\n",
       "      <td>1</td>\n",
       "      <td>5.0</td>\n",
       "      <td>5.75</td>\n",
       "      <td>1248</td>\n",
       "    </tr>\n",
       "    <tr>\n",
       "      <th>5924</th>\n",
       "      <td>12</td>\n",
       "      <td>2017</td>\n",
       "      <td>26741</td>\n",
       "      <td>3</td>\n",
       "      <td>1</td>\n",
       "      <td>1</td>\n",
       "      <td>7.0</td>\n",
       "      <td>10.08</td>\n",
       "      <td>1997</td>\n",
       "    </tr>\n",
       "    <tr>\n",
       "      <th>3764</th>\n",
       "      <td>12</td>\n",
       "      <td>2014</td>\n",
       "      <td>86000</td>\n",
       "      <td>3</td>\n",
       "      <td>1</td>\n",
       "      <td>1</td>\n",
       "      <td>7.0</td>\n",
       "      <td>7.85</td>\n",
       "      <td>2179</td>\n",
       "    </tr>\n",
       "    <tr>\n",
       "      <th>4144</th>\n",
       "      <td>2</td>\n",
       "      <td>2016</td>\n",
       "      <td>52000</td>\n",
       "      <td>3</td>\n",
       "      <td>1</td>\n",
       "      <td>2</td>\n",
       "      <td>5.0</td>\n",
       "      <td>2.40</td>\n",
       "      <td>1396</td>\n",
       "    </tr>\n",
       "    <tr>\n",
       "      <th>1514</th>\n",
       "      <td>8</td>\n",
       "      <td>2008</td>\n",
       "      <td>125000</td>\n",
       "      <td>2</td>\n",
       "      <td>0</td>\n",
       "      <td>3</td>\n",
       "      <td>5.0</td>\n",
       "      <td>2.60</td>\n",
       "      <td>2354</td>\n",
       "    </tr>\n",
       "  </tbody>\n",
       "</table>\n",
       "</div>"
      ],
      "text/plain": [
       "     Name  Year  Kilometers_Driven  Fuel_Type  Transmission  Owner_Type  \\\n",
       "2868    4  2013              69000          3             1           1   \n",
       "5924   12  2017              26741          3             1           1   \n",
       "3764   12  2014              86000          3             1           1   \n",
       "4144    2  2016              52000          3             1           2   \n",
       "1514    8  2008             125000          2             0           3   \n",
       "\n",
       "      Seats  Price  Engine  \n",
       "2868    5.0   5.75    1248  \n",
       "5924    7.0  10.08    1997  \n",
       "3764    7.0   7.85    2179  \n",
       "4144    5.0   2.40    1396  \n",
       "1514    5.0   2.60    2354  "
      ]
     },
     "execution_count": 30,
     "metadata": {},
     "output_type": "execute_result"
    }
   ],
   "source": [
    "test.head()"
   ]
  },
  {
   "cell_type": "code",
   "execution_count": 31,
   "id": "5e95b287",
   "metadata": {},
   "outputs": [],
   "source": [
    "y_train=train['Price']\n",
    "train.drop(columns=[\"Price\"],inplace=True)"
   ]
  },
  {
   "cell_type": "code",
   "execution_count": 32,
   "id": "b8358500",
   "metadata": {},
   "outputs": [],
   "source": [
    "y_test=test[\"Price\"].copy()\n",
    "test.drop(columns=[\"Price\"],inplace=True)"
   ]
  },
  {
   "cell_type": "code",
   "execution_count": null,
   "id": "ab8ea1c7",
   "metadata": {},
   "outputs": [],
   "source": []
  },
  {
   "cell_type": "code",
   "execution_count": 33,
   "id": "e407cd51",
   "metadata": {},
   "outputs": [],
   "source": [
    "from tensorflow.keras.models import Sequential      \n",
    "from tensorflow.keras.layers import Dense  "
   ]
  },
  {
   "cell_type": "code",
   "execution_count": 34,
   "id": "73f4a6f5",
   "metadata": {},
   "outputs": [
    {
     "name": "stdout",
     "output_type": "stream",
     "text": [
      "Model: \"sequential\"\n",
      "_________________________________________________________________\n",
      " Layer (type)                Output Shape              Param #   \n",
      "=================================================================\n",
      " dense (Dense)               (None, 64)                576       \n",
      "                                                                 \n",
      " dense_1 (Dense)             (None, 32)                2080      \n",
      "                                                                 \n",
      " dense_2 (Dense)             (None, 32)                1056      \n",
      "                                                                 \n",
      " dense_3 (Dense)             (None, 1)                 33        \n",
      "                                                                 \n",
      "=================================================================\n",
      "Total params: 3,745\n",
      "Trainable params: 3,745\n",
      "Non-trainable params: 0\n",
      "_________________________________________________________________\n"
     ]
    }
   ],
   "source": [
    "model = Sequential()\n",
    "model.add(Dense(64, input_dim = 8, activation='relu'))\n",
    "\n",
    "model.add(Dense(32, activation='relu'))\n",
    "\n",
    "model.add(Dense(32, activation='relu'))\n",
    "model.add(Dense(1, activation='relu'))\n",
    "model.summary()"
   ]
  },
  {
   "cell_type": "code",
   "execution_count": 35,
   "id": "8cbfb9a4",
   "metadata": {},
   "outputs": [],
   "source": [
    "model.compile(optimizer='adagrad', loss='mean_absolute_error',metrics='accuracy')"
   ]
  },
  {
   "cell_type": "code",
   "execution_count": 36,
   "id": "246afdd6",
   "metadata": {},
   "outputs": [
    {
     "data": {
      "text/plain": [
       "(4779,)"
      ]
     },
     "execution_count": 36,
     "metadata": {},
     "output_type": "execute_result"
    }
   ],
   "source": [
    "y_train.shape"
   ]
  },
  {
   "cell_type": "code",
   "execution_count": 37,
   "id": "50a20211",
   "metadata": {},
   "outputs": [
    {
     "data": {
      "text/plain": [
       "(1196, 8)"
      ]
     },
     "execution_count": 37,
     "metadata": {},
     "output_type": "execute_result"
    }
   ],
   "source": [
    "test.shape"
   ]
  },
  {
   "cell_type": "code",
   "execution_count": null,
   "id": "0f8ab860",
   "metadata": {},
   "outputs": [
    {
     "name": "stdout",
     "output_type": "stream",
     "text": [
      "Epoch 1/100\n",
      "34/34 [==============================] - 1s 11ms/step - loss: 97.6448 - accuracy: 4.6501e-04 - val_loss: 10.2297 - val_accuracy: 0.0000e+00\n",
      "Epoch 2/100\n",
      "34/34 [==============================] - 0s 3ms/step - loss: 10.5352 - accuracy: 2.3250e-04 - val_loss: 9.7126 - val_accuracy: 0.0000e+00\n",
      "Epoch 3/100\n",
      "28/34 [=======================>......] - ETA: 0s - loss: 10.0225 - accuracy: 0.0000e+00"
     ]
    }
   ],
   "source": [
    "history = model.fit(train, y_train, epochs=100, \n",
    "                    batch_size=128,  \n",
    "                    verbose=1, \n",
    "                    validation_split=0.10)"
   ]
  },
  {
   "cell_type": "code",
   "execution_count": null,
   "id": "2fd5fad8",
   "metadata": {},
   "outputs": [],
   "source": []
  }
 ],
 "metadata": {
  "kernelspec": {
   "display_name": "Python 3 (ipykernel)",
   "language": "python",
   "name": "python3"
  },
  "language_info": {
   "codemirror_mode": {
    "name": "ipython",
    "version": 3
   },
   "file_extension": ".py",
   "mimetype": "text/x-python",
   "name": "python",
   "nbconvert_exporter": "python",
   "pygments_lexer": "ipython3",
   "version": "3.9.7"
  }
 },
 "nbformat": 4,
 "nbformat_minor": 5
}
